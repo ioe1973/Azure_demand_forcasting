{
 "cells": [
  {
   "cell_type": "code",
   "execution_count": 1,
   "id": "0dc445d3-1334-45ff-9b70-9e4cfe9c560a",
   "metadata": {},
   "outputs": [
    {
     "ename": "NameError",
     "evalue": "name 'external_factors_clean' is not defined",
     "output_type": "error",
     "traceback": [
      "\u001b[31m---------------------------------------------------------------------------\u001b[39m",
      "\u001b[31mNameError\u001b[39m                                 Traceback (most recent call last)",
      "\u001b[36mCell\u001b[39m\u001b[36m \u001b[39m\u001b[32mIn[1]\u001b[39m\u001b[32m, line 3\u001b[39m\n\u001b[32m      1\u001b[39m \u001b[38;5;66;03m# Merge on both 'date' and 'region' if both columns exist in both datasets\u001b[39;00m\n\u001b[32m      2\u001b[39m merge_cols = [\u001b[33m'\u001b[39m\u001b[33mdate\u001b[39m\u001b[33m'\u001b[39m]\n\u001b[32m----> \u001b[39m\u001b[32m3\u001b[39m \u001b[38;5;28;01mif\u001b[39;00m \u001b[33m'\u001b[39m\u001b[33mregion\u001b[39m\u001b[33m'\u001b[39m \u001b[38;5;129;01min\u001b[39;00m \u001b[43mexternal_factors_clean\u001b[49m.columns \u001b[38;5;129;01mand\u001b[39;00m \u001b[33m'\u001b[39m\u001b[33mregion\u001b[39m\u001b[33m'\u001b[39m \u001b[38;5;129;01min\u001b[39;00m azure_usage_clean.columns:\n\u001b[32m      4\u001b[39m     merge_cols.append(\u001b[33m'\u001b[39m\u001b[33mregion\u001b[39m\u001b[33m'\u001b[39m)\n\u001b[32m      6\u001b[39m merged_data = pd.merge(\n\u001b[32m      7\u001b[39m     azure_usage_clean,\n\u001b[32m      8\u001b[39m     external_factors_clean,\n\u001b[32m      9\u001b[39m     on=merge_cols,\n\u001b[32m     10\u001b[39m     how=\u001b[33m'\u001b[39m\u001b[33minner\u001b[39m\u001b[33m'\u001b[39m  \u001b[38;5;66;03m# Use 'left' if you want to keep all azure_usage rows\u001b[39;00m\n\u001b[32m     11\u001b[39m )\n",
      "\u001b[31mNameError\u001b[39m: name 'external_factors_clean' is not defined"
     ]
    }
   ],
   "source": [
    "# Merge on both 'date' and 'region' if both columns exist in both datasets\n",
    "merge_cols = ['date']\n",
    "if 'region' in external_factors_clean.columns and 'region' in azure_usage_clean.columns:\n",
    "    merge_cols.append('region')\n",
    "\n",
    "merged_data = pd.merge(\n",
    "    azure_usage_clean,\n",
    "    external_factors_clean,\n",
    "    on=merge_cols,\n",
    "    how='inner'  # Use 'left' if you want to keep all azure_usage rows\n",
    ")\n",
    "\n",
    "print(f\"Merged dataset shape: {merged_data.shape}\")\n",
    "print(merged_data.head())\n",
    "\n",
    "# Save the merged dataset\n",
    "import os\n",
    "os.makedirs('../data/processed', exist_ok=True)\n",
    "merged_data.to_csv('../data/processed/cleaned_merged.csv', index=False)\n",
    "print(\"✅ Merged data saved to '../data/processed/cleaned_merged.csv'\")"
   ]
  },
  {
   "cell_type": "code",
   "execution_count": null,
   "id": "863a9a0c-df72-486d-9c3c-793f9b10b4f0",
   "metadata": {},
   "outputs": [],
   "source": []
  }
 ],
 "metadata": {
  "kernelspec": {
   "display_name": "Python 3 (ipykernel)",
   "language": "python",
   "name": "python3"
  },
  "language_info": {
   "codemirror_mode": {
    "name": "ipython",
    "version": 3
   },
   "file_extension": ".py",
   "mimetype": "text/x-python",
   "name": "python",
   "nbconvert_exporter": "python",
   "pygments_lexer": "ipython3",
   "version": "3.12.1"
  }
 },
 "nbformat": 4,
 "nbformat_minor": 5
}
