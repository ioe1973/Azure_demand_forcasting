{
 "cells": [
  {
   "cell_type": "code",
   "execution_count": null,
   "id": "742a0818-8190-4f15-bd0b-3d3714254262",
   "metadata": {},
   "outputs": [],
   "source": [
    "import pandas as pd\n",
    "import matplotlib.pyplot as plt\n",
    "import seaborn as sns\n",
    "\n",
    "# Load the merged dataset\n",
    "df = pd.read_csv('../data/processed/cleaned_merged.csv', parse_dates=['date'])\n",
    "\n",
    "# 1. Average daily CPU usage per region\n",
    "avg_cpu = df.groupby('region')['usage_cpu'].mean().sort_values(ascending=False)\n",
    "print(\"Average daily CPU usage per region:\")\n",
    "print(avg_cpu)\n",
    "\n",
    "# 2. Peak demand per month\n",
    "df['month'] = df['date'].dt.to_period('M')\n",
    "peak_cpu_by_month = df.groupby('month')['usage_cpu'].max()\n",
    "print(\"\\nPeak CPU usage per month:\")\n",
    "print(peak_cpu_by_month)\n",
    "\n",
    "# 3. Top 5 regions by usage (total CPU)\n",
    "top5_regions = df.groupby('region')['usage_cpu'].sum().sort_values(ascending=False).head(5)\n",
    "print(\"\\nTop 5 regions by total CPU usage:\")\n",
    "print(top5_regions)\n",
    "\n",
    "# Line plot for CPU usage trends\n",
    "plt.figure(figsize=(10,5))\n",
    "cpu_trend = df.groupby('date')['usage_cpu'].mean()\n",
    "cpu_trend.plot()\n",
    "plt.title('Average CPU Usage Over Time')\n",
    "plt.xlabel('Date')\n",
    "plt.ylabel('CPU Usage (%)')\n",
    "plt.grid(True)\n",
    "plt.tight_layout()\n",
    "plt.show()\n",
    "\n",
    "# Bar plot for top 5 regions\n",
    "plt.figure(figsize=(8,5))\n",
    "top5_regions.plot(kind='bar', color='orange')\n",
    "plt.title('Top 5 Regions by Total CPU Usage')\n",
    "plt.xlabel('Region')\n",
    "plt.ylabel('Total CPU Usage')\n",
    "plt.tight_layout()\n",
    "plt.show()"
   ]
  }
 ],
 "metadata": {
  "kernelspec": {
   "display_name": "Python 3 (ipykernel)",
   "language": "python",
   "name": "python3"
  },
  "language_info": {
   "codemirror_mode": {
    "name": "ipython",
    "version": 3
   },
   "file_extension": ".py",
   "mimetype": "text/x-python",
   "name": "python",
   "nbconvert_exporter": "python",
   "pygments_lexer": "ipython3",
   "version": "3.12.1"
  }
 },
 "nbformat": 4,
 "nbformat_minor": 5
}
